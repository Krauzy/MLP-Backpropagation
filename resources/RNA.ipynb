{
 "cells": [
  {
   "cell_type": "markdown",
   "metadata": {},
   "source": [
    "# MLP (Multilayer Perceptron) - Backpropagation"
   ]
  },
  {
   "cell_type": "code",
   "execution_count": 41,
   "metadata": {},
   "outputs": [],
   "source": [
    "import pandas as pd\n",
    "import math\n",
    "import numpy as np\n",
    "import seaborn as sns\n",
    "from random import seed\n",
    "from random import randrange\n",
    "from random import random\n",
    "import matplotlib.pyplot as plt \n",
    "%matplotlib inline\n",
    "\n",
    "class RNA:\n",
    "\n",
    "    \n",
    "    def __init__(self, rate=0.5, epoch=100, error_rate=0.5, output_mode='Logistics'):\n",
    "        seed(1)\n",
    "        self.rate = rate\n",
    "        self.epoch = epoch\n",
    "        self.inputs = 0\n",
    "        self.outputs = 0\n",
    "        self.hiddens = 0\n",
    "        self.errors = list()\n",
    "        self.score = 0\n",
    "        self.network = list()\n",
    "        self.data = list()\n",
    "        self.filter = dict()\n",
    "        self.error_rate = error_rate\n",
    "        self.mode = output_mode\n",
    "    \n",
    "\n",
    "    def show(self):\n",
    "        out = {\n",
    "            'rate': self.rate,\n",
    "            'epoch': self.epoch,\n",
    "            'inputs': self.inputs,\n",
    "            'outputs': self.outputs,\n",
    "            'hiddens': self.hiddens,\n",
    "            'errors': self.errors,\n",
    "            'score': self.score,\n",
    "            'filter': self.filter\n",
    "        }\n",
    "        print(out)\n",
    "    \n",
    "\n",
    "    def geo_mean(self, inputs, outputs):\n",
    "        return math.floor(math.sqrt((float(inputs * outputs))))\n",
    "    \n",
    "    \n",
    "    def load_data(self, path=''):\n",
    "        if path != '':\n",
    "            df = pd.read_csv(path)\n",
    "            for col in df.drop(columns=\"classe\", axis=1):\n",
    "                df[str(col)] = df[str(col)].astype(float)\n",
    "            self.data = df.values.tolist()\n",
    "            \n",
    "        self.inputs = len(self.data[0]) - 1\n",
    "        \n",
    "        last = len(self.data[0]) - 1\n",
    "        \n",
    "        col_class = [row[last] for row in self.data]\n",
    "        self.outputs = len(set(col_class))\n",
    "        self.filter = dict()\n",
    "        for i, value in enumerate(set(col_class)):\n",
    "            self.filter[value] = i\n",
    "            \n",
    "        for row in self.data:\n",
    "            row[last] = self.filter[row[last]]\n",
    "        self.hiddens = self.geo_mean(self.inputs, self.outputs)\n",
    "        self.shuffle()\n",
    "        self.normalize()\n",
    "    \n",
    "    def shuffle(self):\n",
    "        temp = list(self.data)\n",
    "        self.data = list()\n",
    "        while len(temp) > 0:\n",
    "            index = randrange(len(temp))\n",
    "            self.data.append(temp.pop(index))\n",
    "    \n",
    "    \n",
    "    def normalize(self):\n",
    "        norm = list()\n",
    "        state = [[min(col), max(col)] for col in zip(*self.data)]\n",
    "        for row in self.data:\n",
    "            for i in range(len(row) - 1):\n",
    "                row[i] = (row[i] - state[i][0]) / (state[i][1] - state[i][0])\n",
    "    \n",
    "\n",
    "    def init_network(self):\n",
    "        self.network = list()\n",
    "        # hidden = [{'W': np.random.rand(self.inputs + 1)} for _ in range(self.hiddens)]\n",
    "        hidden = [{'W':[random() for _ in range(self.inputs + 1)]} for _ in range(self.hiddens)]\n",
    "        self.network.append(hidden)\n",
    "        # criação dos neurônios de saída\n",
    "        #output = [{'W':np.random.rand(self.hiddens + 1)} for _ in range (self.outputs)]\n",
    "        output = [{'W':[random() for _ in range(self.hiddens + 1)]} for _ in range(self.outputs)]\n",
    "        self.network.append(output)\n",
    "    \n",
    "\n",
    "    def activate(self, weight, inputs):\n",
    "        act = weight[-1]\n",
    "        for i in range(len(weight) - 1):\n",
    "            act += weight[i] * inputs[i]\n",
    "        return act\n",
    "     \n",
    "\n",
    "    def output_function(self, value):\n",
    "        if self.mode == 'Linear':\n",
    "            return value / 10.0\n",
    "        elif self.mode == 'Logistics':\n",
    "            return 1.0 / (1.0 + math.exp(-value))\n",
    "        else:\n",
    "            return math.tanh(value)\n",
    "    \n",
    "    def gradient(self, value):\n",
    "        if self.mode == 'Linear':\n",
    "            return 1.0 / 10.0\n",
    "        elif self.mode == 'Logistics':\n",
    "            x = self.output_function(value)\n",
    "            return x * (1.0 - x)\n",
    "        else:\n",
    "            return 1.0 - (self.output_function(value) ** 2)\n",
    "    \n",
    "    def forward_propagate(self, row):\n",
    "        temp_inputs = row\n",
    "        for layer in self.network:\n",
    "            news = list()\n",
    "            for neuron in layer:\n",
    "                act = self.activate(neuron['W'], temp_inputs)\n",
    "                neuron['OUTPUT'] = self.output_function(act)\n",
    "                news.append(neuron['OUTPUT'])\n",
    "            temp_inputs = news\n",
    "        return temp_inputs\n",
    "    \n",
    "    def backward_propagate_error(self, rec):\n",
    "        for i in reversed(range(len(self.network))):\n",
    "            layer = self.network[i]\n",
    "            errors = list()\n",
    "            if i != len(self.network)-1:\n",
    "                for j in range(len(layer)):\n",
    "                    error = 0.0\n",
    "                    for neuron in self.network[i + 1]:\n",
    "                        error += (neuron['W'][j] * neuron['DELTA'])\n",
    "                    errors.append(error)\n",
    "            else:\n",
    "                for j in range(len(layer)):\n",
    "                    neuron = layer[j]\n",
    "                    errors.append(rec[j] - neuron['OUTPUT'])\n",
    "            for j in range(len(layer)):\n",
    "                neuron = layer[j]\n",
    "                neuron['DELTA'] = errors[j] * self.gradient(neuron['OUTPUT'])\n",
    "    \n",
    "    def update_weights(self, row):\n",
    "        for i in range(len(self.network)):\n",
    "            inputs = row[:-1]\n",
    "            if i != 0:\n",
    "                inputs = [neuron['OUTPUT'] for neuron in self.network[i - 1]]\n",
    "            for neuron in self.network[i]:\n",
    "                for j in range(len(inputs)):\n",
    "                    neuron['W'][j] += self.rate * neuron['DELTA'] * inputs[j]\n",
    "                neuron['W'][-1] += self.rate * neuron['DELTA']\n",
    "    \n",
    "    def train(self, path='', data=[]):\n",
    "        if len(data) == 0:\n",
    "            self.data = data\n",
    "        self.load_data(path)\n",
    "        self.init_network()\n",
    "        error = 100\n",
    "        epochs = 0\n",
    "        while (self.error_rate < error) & (self.epoch > epochs):\n",
    "            for row in self.data:\n",
    "                outs = self.forward_propagate(row)\n",
    "                rec = np.zeros(self.outputs)\n",
    "                rec[row[-1]] = 1\n",
    "                error += sum([(rec[i] - outs[i]) * self.gradient(outs[i]) for i in range(len(rec))])\n",
    "                self.backward_propagate_error(rec)\n",
    "                self.update_weights(row)\n",
    "            self.errors.append(error)\n",
    "            epochs += 1\n",
    "    \n",
    "    def predict(self, row):\n",
    "        outputs = self.forward_propagate(row)\n",
    "        return outputs.index(max(outputs))\n",
    "    \n",
    "    def accuracy(self, facts, predicteds, dist):\n",
    "        res = 0\n",
    "        for i in range(len(facts)):\n",
    "            if facts[i] == predicteds[i]:\n",
    "                res += 1\n",
    "        acc = res / float(len(facts)) * 100.0        \n",
    "        \n",
    "        matrix = [[0 for _ in range(len(dist))] for _ in range(len(dist))]        \n",
    "        for i in range(len(facts)):\n",
    "            matrix[int(facts[i])][int(predicteds[i])] += 1\n",
    "        df = pd.DataFrame(data=matrix, columns=list(self.filter), index=list(self.filter))\n",
    "        return (acc, df)\n",
    "    \n",
    "    def test(self, path='', data=''):\n",
    "        dist = list(self.filter)\n",
    "        if len(data) == 0:\n",
    "            self.data = data\n",
    "        self.load_data(path)\n",
    "        pred = list()\n",
    "        for row in self.data:\n",
    "            pred.append(self.predict(row))\n",
    "        fact = [row[-1] for row in self.data]\n",
    "        return self.accuracy(fact, pred, dist)"
   ]
  },
  {
   "cell_type": "markdown",
   "metadata": {},
   "source": [
    "# Parameters\n",
    "*The parameters that must be passed for the use of the neural network*"
   ]
  },
  {
   "cell_type": "markdown",
   "metadata": {},
   "source": [
    "`learning_rate` is the rate of learning of the Neural Network\n",
    "\n",
    "**VALUES**\n",
    "- *0 ... 1*\n"
   ]
  },
  {
   "cell_type": "code",
   "execution_count": 42,
   "metadata": {},
   "outputs": [],
   "source": [
    "learning_rate = 0.6"
   ]
  },
  {
   "cell_type": "markdown",
   "metadata": {},
   "source": [
    "`epochs` is the number of times that the learning process is runned\n",
    "\n",
    "**VALUES**\n",
    "- *1...INF*"
   ]
  },
  {
   "cell_type": "code",
   "execution_count": 43,
   "metadata": {},
   "outputs": [],
   "source": [
    "epochs = 50"
   ]
  },
  {
   "cell_type": "markdown",
   "metadata": {},
   "source": [
    "`error_rate` is the error rate that learning should reach\n",
    "\n",
    "**VALUES**\n",
    "- *0...INF*"
   ]
  },
  {
   "cell_type": "code",
   "execution_count": 44,
   "metadata": {},
   "outputs": [],
   "source": [
    "error_rate = 1"
   ]
  },
  {
   "cell_type": "markdown",
   "metadata": {},
   "source": [
    "`output_mode` is the output function of each neuron in the Neural Network\n",
    "\n",
    "**VALUES**\n",
    "- *Linear* \n",
    "    * `f(net) = net / 10.0`\n",
    "    * `f(net)' = 1.0 / 10.0`\n",
    "- *Logistics* \n",
    "    * `f(net) = 1.0 / (1.0 + exp(-net))`\n",
    "    * `f(net)' = exp(-net) * (1.0 - exp(-net))`\n",
    "- *Hiperbolic Tangent*\n",
    "    * `f(net) = tanh(net)`\n",
    "    * `f(net)' = 1.0 - tanh(net) ** 2`"
   ]
  },
  {
   "cell_type": "code",
   "execution_count": 45,
   "metadata": {},
   "outputs": [],
   "source": [
    "output_mode = 'Logistics'"
   ]
  },
  {
   "cell_type": "markdown",
   "metadata": {},
   "source": [
    "# Train\n",
    "*The trainning process of ANN*\n",
    "\n",
    "- Receive only a string that represents the ``path`` of csv file train "
   ]
  },
  {
   "cell_type": "code",
   "execution_count": 46,
   "metadata": {},
   "outputs": [],
   "source": [
    "rna = RNA(rate=learning_rate, epoch=epochs, error_rate=error_rate, output_mode=output_mode)\n",
    "rna.train(path='train.csv')"
   ]
  },
  {
   "cell_type": "markdown",
   "metadata": {},
   "source": [
    "## Error rate index\n",
    "*The error rate, from the beginning to the end of the training based on the number of epochs runned*"
   ]
  },
  {
   "cell_type": "code",
   "execution_count": 47,
   "metadata": {},
   "outputs": [
    {
     "data": {
      "text/plain": [
       "<AxesSubplot:>"
      ]
     },
     "execution_count": 47,
     "metadata": {},
     "output_type": "execute_result"
    },
    {
     "data": {
      "image/png": "[encoded data removed]",
      "text/plain": [
       "<Figure size 576x360 with 1 Axes>"
      ]
     },
     "metadata": {
      "needs_background": "light"
     },
     "output_type": "display_data"
    }
   ],
   "source": [
    "plt.figure(figsize=(8, 5))\n",
    "sns.lineplot(data=rna.errors)"
   ]
  },
  {
   "cell_type": "markdown",
   "metadata": {},
   "source": [
    "# Test\n",
    "*Run a test based on training, but with different values, to knows how accurate is the neural network*\n",
    "- Receive the ``path`` of csv file test, and return the ``score`` and confusion ``matrix`` of the test"
   ]
  },
  {
   "cell_type": "code",
   "execution_count": 38,
   "metadata": {},
   "outputs": [
    {
     "name": "stdout",
     "output_type": "stream",
     "text": [
      "Carregado\n",
      "Bagunçado\n",
      "Normalizado\n"
     ]
    }
   ],
   "source": [
    "score, matrix = rna.test(path='test.csv')"
   ]
  },
  {
   "cell_type": "markdown",
   "metadata": {},
   "source": [
    "## Confusion Matrix\n",
    "*The confusion matrix quantifies how many examples from the test database are correctly classified by the model built*\n"
   ]
  },
  {
   "cell_type": "code",
   "execution_count": 39,
   "metadata": {},
   "outputs": [
    {
     "data": {
      "text/html": [
       "<div>\n",
       "<style scoped>\n",
       "    .dataframe tbody tr th:only-of-type {\n",
       "        vertical-align: middle;\n",
       "    }\n",
       "\n",
       "    .dataframe tbody tr th {\n",
       "        vertical-align: top;\n",
       "    }\n",
       "\n",
       "    .dataframe thead th {\n",
       "        text-align: right;\n",
       "    }\n",
       "</style>\n",
       "<table border=\"1\" class=\"dataframe\">\n",
       "  <thead>\n",
       "    <tr style=\"text-align: right;\">\n",
       "      <th></th>\n",
       "      <th>CD</th>\n",
       "      <th>CE</th>\n",
       "      <th>CC</th>\n",
       "      <th>CA</th>\n",
       "      <th>CB</th>\n",
       "    </tr>\n",
       "  </thead>\n",
       "  <tbody>\n",
       "    <tr>\n",
       "      <th>CD</th>\n",
       "      <td>75</td>\n",
       "      <td>0</td>\n",
       "      <td>0</td>\n",
       "      <td>0</td>\n",
       "      <td>0</td>\n",
       "    </tr>\n",
       "    <tr>\n",
       "      <th>CE</th>\n",
       "      <td>0</td>\n",
       "      <td>66</td>\n",
       "      <td>0</td>\n",
       "      <td>0</td>\n",
       "      <td>0</td>\n",
       "    </tr>\n",
       "    <tr>\n",
       "      <th>CC</th>\n",
       "      <td>0</td>\n",
       "      <td>0</td>\n",
       "      <td>102</td>\n",
       "      <td>0</td>\n",
       "      <td>0</td>\n",
       "    </tr>\n",
       "    <tr>\n",
       "      <th>CA</th>\n",
       "      <td>0</td>\n",
       "      <td>0</td>\n",
       "      <td>0</td>\n",
       "      <td>56</td>\n",
       "      <td>0</td>\n",
       "    </tr>\n",
       "    <tr>\n",
       "      <th>CB</th>\n",
       "      <td>0</td>\n",
       "      <td>0</td>\n",
       "      <td>0</td>\n",
       "      <td>0</td>\n",
       "      <td>53</td>\n",
       "    </tr>\n",
       "  </tbody>\n",
       "</table>\n",
       "</div>"
      ],
      "text/plain": [
       "    CD  CE   CC  CA  CB\n",
       "CD  75   0    0   0   0\n",
       "CE   0  66    0   0   0\n",
       "CC   0   0  102   0   0\n",
       "CA   0   0    0  56   0\n",
       "CB   0   0    0   0  53"
      ]
     },
     "execution_count": 39,
     "metadata": {},
     "output_type": "execute_result"
    }
   ],
   "source": [
    "matrix"
   ]
  },
  {
   "cell_type": "markdown",
   "metadata": {},
   "source": [
    "## Score (Accuracy)\n",
    "*Shows the percentage of correctness of the test performed with the neural network training*"
   ]
  },
  {
   "cell_type": "code",
   "execution_count": 40,
   "metadata": {},
   "outputs": [
    {
     "data": {
      "text/plain": [
       "100.0"
      ]
     },
     "execution_count": 40,
     "metadata": {},
     "output_type": "execute_result"
    }
   ],
   "source": [
    "score"
   ]
  }
 ],
 "metadata": {
  "kernelspec": {
   "display_name": "Python 3",
   "language": "python",
   "name": "python3"
  },
  "language_info": {
   "codemirror_mode": {
    "name": "ipython",
    "version": 3
   },
   "file_extension": ".py",
   "mimetype": "text/x-python",
   "name": "python",
   "nbconvert_exporter": "python",
   "pygments_lexer": "ipython3",
   "version": "3.8.5"
  }
 },
 "nbformat": 4,
 "nbformat_minor": 4
}
